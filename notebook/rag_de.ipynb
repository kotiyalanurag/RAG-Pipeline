{
 "cells": [
  {
   "cell_type": "code",
   "execution_count": 1,
   "metadata": {},
   "outputs": [],
   "source": [
    "import sys\n",
    "sys.path.append(\"..\")\n",
    "\n",
    "from langchain.vectorstores import FAISS\n",
    "from langchain_huggingface import HuggingFaceEmbeddings\n",
    "\n",
    "from langchain.document_loaders.pdf import PyPDFDirectoryLoader\n",
    "from langchain.text_splitter import RecursiveCharacterTextSplitter\n",
    "\n",
    "from langchain.prompts import ChatPromptTemplate\n",
    "from langchain_community.llms.ollama import Ollama\n",
    "\n",
    "import warnings\n",
    "warnings.filterwarnings(\"ignore\")"
   ]
  },
  {
   "cell_type": "code",
   "execution_count": 2,
   "metadata": {},
   "outputs": [],
   "source": [
    "DATA_PATH = \"/Users/anuragkotiyal/Desktop/engaige/docs\""
   ]
  },
  {
   "cell_type": "code",
   "execution_count": 3,
   "metadata": {},
   "outputs": [],
   "source": [
    "def load_docs(data_dir):\n",
    "    \n",
    "    \"\"\" A simple function that loads data from all pdfs inside a directory.\n",
    "\n",
    "    Args:\n",
    "        DATA_DIR (path): Path to the directory where pdf documents are stored.\n",
    "\n",
    "    Returns:\n",
    "        list(tuple): returns a list of tuples where each tuple contains \"page content\" of the document and\n",
    "        some meta deta like \"source\" and \"page number\" i.e., [Document(page_content = \"Tax information ...\",\n",
    "        metadata = {\"source\": \"doc_1.pdf\", \"page\": 10})].\n",
    "    \"\"\"\n",
    "    \n",
    "    # create an instance of document loader using the pypdfdirectoryloader from langchain\n",
    "    document_loader = PyPDFDirectoryLoader(data_dir)\n",
    "    \n",
    "    return document_loader.load()\n",
    "\n",
    "def split_docs_into_chunks(documents, chunk_size = 500, chunk_overlap = 50):\n",
    "    \n",
    "    \"\"\" A function that split a document into chunks of specific sizes like 500 characters.\n",
    "\n",
    "    Args:\n",
    "        documents (list(tuple)): a list of tuples where each tuple contains \"page content\" of the document and\n",
    "        some meta deta like \"source\" and \"page number\".\n",
    "\n",
    "    Returns:\n",
    "        list(tuples): similar to the format in which data came but any document larger than chunk_size has been split\n",
    "        into multiple chunks.\n",
    "    \"\"\"\n",
    "    \n",
    "    # create an instance of recursive character text splitter from langchain\n",
    "    text_splitter = RecursiveCharacterTextSplitter(\n",
    "        chunk_size = chunk_size,\n",
    "        chunk_overlap = chunk_overlap,\n",
    "        length_function = len,\n",
    "        is_separator_regex = False,\n",
    "    )\n",
    "    \n",
    "    return text_splitter.split_documents(documents)    \n",
    "\n",
    "def get_chunk_ids(chunks):\n",
    "\n",
    "    \"\"\" A function that creates a unique identifier for each chunk in the database like \"docs/doc_name:page_num:chunk_id\".\n",
    "    A chunk id of \"docs/doc_1.pdf:10:5\" refers to the 5th chunk on page 10 of doc_1.pdf. \n",
    "\n",
    "    Returns:\n",
    "        list(tuple): returns a list of tuples where each tuple contains \"page content\" of the document and\n",
    "        some meta deta like \"source\", \"page number\", and \"chunk_id\"\n",
    "    \"\"\"\n",
    "\n",
    "    last_page_id = None\n",
    "    current_chunk_index = 0\n",
    "\n",
    "    for chunk in chunks:\n",
    "        # get source and page number from metadata to create a current page id\n",
    "        source = chunk.metadata.get(\"source\")\n",
    "        page = chunk.metadata.get(\"page\")\n",
    "        current_page_id = f\"{source}:{page}\"\n",
    "\n",
    "        # if the page ID is the same as the last one, increment the index.\n",
    "        if current_page_id == last_page_id:\n",
    "            current_chunk_index += 1\n",
    "        else:\n",
    "            current_chunk_index = 0\n",
    "\n",
    "        # calculate the chunk ID.\n",
    "        chunk_id = f\"{current_page_id}:{current_chunk_index}\"\n",
    "        last_page_id = current_page_id\n",
    "\n",
    "        # add it to the page meta-data.\n",
    "        chunk.metadata[\"id\"] = chunk_id\n",
    "\n",
    "    return chunks"
   ]
  },
  {
   "cell_type": "code",
   "execution_count": 4,
   "metadata": {},
   "outputs": [],
   "source": [
    "documents = load_docs(DATA_PATH)"
   ]
  },
  {
   "cell_type": "code",
   "execution_count": 5,
   "metadata": {},
   "outputs": [
    {
     "data": {
      "text/plain": [
       "[Document(page_content='Private Vorsorge \\nInformationen vor Vertragsabschluss Basispaket\\nParkAllee ', metadata={'source': '/Users/anuragkotiyal/Desktop/engaige/docs/ParkAllee.pdf', 'page': 0}),\n",
       " Document(page_content='PA/D/100 6/III/11/21Gesetzlich vorgeschriebene Informationen \\nfür Ihren Versicherungsvertrag\\nFragen und Antworten rund um Standard Life\\nSteuerinformationen\\nSteuerliche Behandlung Ihrer ParkAllee  \\nf\\nondsgebundene Renten versicherung\\nDas Kleingedruckte mal ganz groß \\nVersicherungsbedingungen\\n für Ihre ParkAllee  \\nfondsgebundene R entenversicherung', metadata={'source': '/Users/anuragkotiyal/Desktop/engaige/docs/ParkAllee.pdf', 'page': 1}),\n",
       " Document(page_content='  \\nPA/D/1006/III/11/21   \\n       \\n \\n \\nInhaltsübersicht  \\nGesetzlich vorgeschriebene Informationen für Ihren Versicherungsvertrag  \\nSteuerinformationen  \\nDas Kleingedruckte – mal ganz groß: Allgemeine Versicherungsbedingungen ', metadata={'source': '/Users/anuragkotiyal/Desktop/engaige/docs/ParkAllee.pdf', 'page': 2}),\n",
       " Document(page_content='Gesetzlich vorgeschriebene Informationen  \\n \\n Seite 1 von 3 \\nPA/D/1006/III/11/21  1. Wer ist Ihr Vertragspartner  \\nVersicherer ist die Standard Life International DAC (90 St Stephens Green, Dublin 2, Irland,  \\nRegister -Nr. 408507). Die Anschrift der für Sie zuständigen Zweigniederlassung lautet:  \\nStandard Life Versicherung  \\nZweigniederlassung Deutschland der  \\nStandard Life International DAC  \\nLyoner Straße 15  \\n60528 Frankfurt am Main  \\nLadungsfähige Anschrift und Sitz der Zweigniederlassung  \\nStandard Life Versicherung  \\nZweigniederlassung Deutschland der  \\nStandard Life International DAC  \\nLyoner Straße 15  \\n60528 Frankfurt am Main  \\nDie Zweigniederlassung ist eingetragen beim Amtsgericht Frankfurt am Main unter der Registernumm er \\nHRB 111481.  \\nVertreter der Zweigniederlassung und zugleich Hauptbevollmächtigter ist Richard Reinhard.  \\nStandard Life International DAC ist eine irische Versicherungsgesellschaft mit Sitz in Dublin und gehört zur \\nPhoenix Gruppe in Großbritannien. Standard Life International DAC ist von der irischen Zentralbank CBI \\nzugelassen und wird von ihr nach irischem Aufsichtsrecht reguliert.  \\n2. Was bieten wir an?  \\nUnsere Hauptgeschäftstätigkeit ist der Verkauf von Versicherungen zur Absicherung von biometrischen  \\nRisiken  wie Langlebigkeit, Tod und Berufsunfähigkeit.  \\n3. Wie sprechen wir?  \\nJegliche schriftliche und mündliche Kommunikation im Zusammenhang mit Ihrem Versicherungsvertrag er-\\nfolgt in deutscher Sprache.  \\n4. Welches Recht ist anwendbar?  \\nFür die Vertragsanbahnung und alle bei uns abgeschlossenen Verträge gilt vertragsrechtlich das Recht der Bundesrepublik Deutschland.  \\n5. Gibt es einen Sicherungsfonds?  \\nStandard Life International DAC gehört keiner Einrichtung zur Sicherung von Ansprüchen der Versicherten an (externer Sicherungsfonds).  \\nAllerdings bestehen EU -weite aufsichtsrechtliche Anforderungen, die dem Insolvenzschutz dienen. Sie ver-\\npflichten Versicherungsgesellschaften in Irland, einschließlich Standard Life International DAC, getrennt ge-\\nhaltene Kapitalanlagen in einem Umf ang vorzuhalten, die die Verpflichtungen gegenüber den Inhabern von \\nVersicherungsverträgen abdecken.   \\nIm unwahrscheinlichen Fall einer Insolvenz und vorbehaltlich sehr weniger Ausnahmen stehen diese Ver-mögenswerte zunächst den Inhabern von Versicherungsverträgen zu, bevor sie verwendet werden dürfen, um anderweitige Ansprüche zu erfüllen.  ', metadata={'source': '/Users/anuragkotiyal/Desktop/engaige/docs/ParkAllee.pdf', 'page': 3}),\n",
       " Document(page_content='Gesetzlich vorgeschriebene Informationen  \\n \\n Seite 2 von 3 \\nPA/D/1006/III/11/21  6. An wen können Sie sich bei Fragen wenden? \\nHaben Sie eine Frage zur Altersvorsorge oder zu Ihrem Vertrag, sollten Sie sich als erstes an Ihren Vermitt-\\nler wenden.  \\nUnsere S ervicemitarbeiter sind von Montag bis Freitag von 9.00 bis 17.00 Uhr für Sie da:  \\nTel.: 0800 2214747 (kostenfrei).  \\nFax: 0800 5892821 \\nE-Mail: kundenservice@standardlife.de  \\n7. Welche Möglichkeiten außergerichtlicher Beschwerde-  und Rechtsbehelfsverfahren gibt es? \\nWenn Sie mit unseren Leistungen oder unserem Service einmal nicht zufrieden sind, wenden Sie sich an \\nunser Beschwerdemanagement.  \\nWir versuchen Ihr Anliegen innerhalb von sechs Arbeitstagen zu beantworten – oft sind wir schneller, in \\nEinzelfällen kann es aber auch einmal länger dauern. Sie erreichen unser Beschwerdemanagement unter  \\nStandard Life  \\nBeschwerdemanagement  \\nLyoner Straße 15  \\n60528 Frankfurt am Main  \\nE-Mail: beschwerde@standardlife.de  \\nFax: 069 665722901 \\nAls kostenlose, außergerichtliche Schlichtungsstelle können Sie den \\nVersicherungsombudsmann e.  V. \\nPostfach 08 06 32  \\n10006 Berlin \\nTel.: 0800 3696000 \\nE-Mail: beschwerde@versicherungsombudsmann.de  \\nwww.versicherungsombudsmann.de  \\nin Anspruch nehmen.  \\nBei dem Ombudsmann können Sie für Streitigkeiten über Ansprüche aus Ihrem Vertrag eine Streitschlich-tung beantragen, nachdem Sie uns zunächst die Möglichkeit gegeben haben, unsere Entscheidung zu \\nüberprüfen. Eine Beschwerde, bei der zugleich ein Verfahren vor Gericht oder eine Beschwerde bei der \\nBundesanstalt für Finanzdienstleistungsaufsicht (BaFin) anhängig ist, behandelt der Ombudsmann nicht. \\nNach Beendigung eines Verfahrens bei der BaFin kann das Ombudsmannverfahren jedoch wieder aufge-\\nnommen werden.  \\nSelbstverständlich besteht für Sie auch die Möglichkeit, statt oder nach der Beendigung des Ombudsmann-\\nverfahrens den Rechtsweg zu beschreiten.  \\nFerner können Sie Beschwerden auch an die für uns zuständigen Aufsichtsbehörden richten.  \\n8. Welche Aufsichtsbehörde gi bt es?  \\nStandard Life International DAC ist in Irland von der Central Bank of Ireland (CBI) zugelassen und wird von \\nihr beaufsichtigt.   \\nCentral Bank of Ireland  \\nPO Box 559 Dublin 1  \\nIrland  \\n ', metadata={'source': '/Users/anuragkotiyal/Desktop/engaige/docs/ParkAllee.pdf', 'page': 4}),\n",
       " Document(page_content='Gesetzlich vorgeschriebene Informationen  \\n \\n Seite 3 von 3 \\nPA/D/1006/III/11/21  Die deutsche Zweigniederlassung unterliegt der Rechts - und Finanz aufsicht der Central Bank of Ireland \\n(CBI) und auch der Rechtsaufsicht der deutschen Bundesanstalt für Finanzdienstleistungsaufsicht (BaFin):  \\nDie Bundesanstalt für Finanzdienstleistungsaufsicht  \\nBereich Versicherungen \\nGraurheindorfer Straße 108  \\n53117 Bonn Tel.: 0228 41080 E-Mail: poststelle@bafin.de  \\nwww.bafin.de  \\n ', metadata={'source': '/Users/anuragkotiyal/Desktop/engaige/docs/ParkAllee.pdf', 'page': 5}),\n",
       " Document(page_content=' \\n \\nPA/D/1006/III/11/21   \\nSteuerinformationen zu Ihrer ParkAllee  \\nDie folgenden Ausführungen geben Ihnen einen Überblick über die wesentlichen steuerrechtlichen Rege-\\nlungen zu Ihrem Versicherungsvertrag. Sie beruhen auf der zum Zeitpunkt der Drucklegung geltenden \\nSteuergesetzgebung.  \\nEs handelt sich hierbei lediglich um allgemeine Informationen, die nicht Bestandteil des mit Ihnen abge-schlossenen Lebensversicherungsvertrags sind. Sie ersetzen insbesondere im Einzelfall nicht eine steuerli-\\nche Beratung durch Ihren Steuerberater.  \\nWährend der Vertragslaufzeit können Rechtsprechung und Änderungen von Gesetzen und Verordnungen \\nAuswirkungen auf Ihren Versicherungsvertrag haben, die wir nicht beeinflussen können.  \\nBedenken Sie bitte auch, dass bei Vertragsänderungen steuerliche Folgewirkungen auftreten können. Bitte informieren Sie sich deshalb, bevor Sie eine Vertragsänderung durchführen lassen.\\n \\n ', metadata={'source': '/Users/anuragkotiyal/Desktop/engaige/docs/ParkAllee.pdf', 'page': 6}),\n",
       " Document(page_content='Steuerinformationen  \\n \\n Seite 1 von 4 \\nPA/D/1006/III/11/21  1 Einkommensteuer  \\n1.1 Die steuerliche Behandlung der Beiträge  \\nBeiträge zu aufgeschobenen Rentenversicherungen sind steuerlich nicht als Sonderausgaben abzugsfähig.  \\n1.2 Die steuerliche Behandlun g der Rentenzahlung  \\nLaufende Rentenzahlungen aus privaten Rentenversicherungen sind gemäß § 22 Nr.  1 S. 3 Buchstabe a \\nDoppelbuchstabe bb Einkommensteuergesetz (EStG) mit dem Ertragsanteil zu versteuern. Der Ertragsan-\\nteil ist abhängig vom Alter der versicherten Person bei Beginn der Rentenzahlung und bleibt während der Dauer der Rentenzahlung unverändert. Mit dem Ertragsanteil werden nur di e Erträge aus den laufenden \\nRenten erfasst. Erträge, die während einer Aufschubzeit erzielt werden, bleiben steuerfrei.  \\nVerstirbt der Versicherte bei Leibrentenversicherungen mit einer vertraglich vereinbarten Mindestlaufzeit innerhalb dieses Zeitraums, s ind auch für den Bezugsberechtigten beziehungsweise den Rechtsnachfolger \\n(in der Regel der Erbe) die bis zum Ende der Mindestlaufzeit zu zahlenden Renten mit dem Ertragsanteil \\nsteuerpflichtig. Dabei wird der auf den Erblasser angewandte Ertragsanteil fortgeführt.  \\n1.3 Die steuerliche Behandlung der Kapitalauszahlung  \\n Voller Unterschiedsbetrag  \\nKapitalauszahlungen aus einer Rentenversicherung mit Kapitalwahlrecht sind steuerpflichtig. Zu ver-\\nsteuern ist der Unterschiedsbetrag zwischen dem Auszahlungsbetrag und der  Summe der eingezahlten \\nBeiträge.  \\nAuf diesen Unterschiedsbetrag müssen wir 25 Prozent Abgeltungsteuer erheben. Diese führen wir ge-\\nmäß §  43 Abs.  3 S. 1 EStG direkt an das zuständige Finanzamt ab, ebenso den dazugehörigen Solidari-\\ntätszuschlag und gegebenenf alls die Kirchensteuer (siehe hierzu auch c).  \\nDamit ist die Einkommensteuer auf diesen Ertrag abgegolten (Abgeltungsteuer). Eine Günstigerprüfung (Abgeltungsteuer oder individuelle Besteuerung) kann im Rahmen der Einkommensteuererklärung \\ndurch den Steuerpf lichtigen beantragt werden.  \\n Hälftiger Unterschiedsbetrag  \\nDer Unterschiedsbetrag ist nur zur Hälfte der Einkommensteuer zu unterwerfen, wenn die Auszahlung \\nnach Ablauf von zwölf Jahren nach Vertragsabschluss und nach Vollendung des 62. Lebensjahrs des \\nSteuerpflichtigen erfolgt.  \\nIn diesem Fall erfolgt dennoch eine Abführung der Kapitalertragsteuer, des Solidaritätszuschlags und \\nggf. der Kirchensteuer auf den vollen Unterschiedsbetrag durch das Versicherungsunternehmen. Diese \\nSteuerbeträge sind Vorauszahlungen auf die persönliche Einkommensteuer. Die Ermittlung der Höhe \\nder tatsächlich zu zahlenden Steuer erfolgt dann erst im Rahmen der Einkommensteuerveranlagung des Steuerpflichtigen mit seinem individuellen Steuersatz unter Anrechnung des vom Versicherer abge-führten Betrags.  \\n Automatisches Kirchensteuerabzugsverfahren bei der Abgeltungsteuer  \\nKirchensteuer auf abgeltend besteuerte Kapitalerträge wird ab dem 1.  Januar 2015 automatisch einbe-\\nhalten und an die steuererhebenden Religionsgemeinschaften abgeführt. „Automatisch“ bedeutet, dass Sie als Mitglied Ihrer Religionsgemeinschaft künftig nichts weiter veranlassen müssen, um Ihren kir-\\nchensteuerlichen Pflichten im Zusammenhang mit der Abgeltungsteuer nachzukommen.  \\nSofern Sie die Kirchensteuer auf abgeltend besteuerte Kapitalerträge nicht von uns, sondern von dem \\nfür Sie zuständigen Finanzamt erheben lassen möchten, müssen Sie der Übermittlung Ihrer Religions-\\nzugehörigkeit an uns widersprechen. Für diese Sperrvermerkserklärung steht ein amtlich vorgeschriebe-\\nner Vordr uck unter www.formulare- bfinv.de unter dem Stichwort „Kirchensteuer“ bereit, den Sie beim \\nBundeszentralamt für Steuern (BZSt) einreichen müssen.  ', metadata={'source': '/Users/anuragkotiyal/Desktop/engaige/docs/ParkAllee.pdf', 'page': 7}),\n",
       " Document(page_content='Steuerinformationen  \\n \\n Seite 2 von 4 \\nPA/D/1006/III/11/21  Sofern ein Sperrvermerk erteilt wurde beziehungsweise keine Kirchensteuerpflicht besteht, erhalten wir \\nauf unsere Anfrage einen neutralen Nullwert zurückübermittelt. Dieser Wert ist inhaltsleer und nicht in-\\nterpretierbar. Aus ihm ist also weder ein Rückschluss auf eine Religionszugehörigkeit oder Nichtreligi-\\nonszugehörigkeit noch ein Rückschluss auf einen vorliegenden oder nicht vorliegenden Sperrvermerk möglich.  \\n Sonstiges  \\nAuf Ihren Antrag hin erstellen wir eine entsprechende Steuerbescheinigung.  \\nDurch das Einreichen eines Freistellungsauftrags oder einer Nichtveranlagungsbescheinigung können \\nSie den Einbehalt der Kapitalertragsteuer, des Solidaritätszuschlags sowie gegebenenfalls der Kirchen-\\nsteuer ganz oder teilweise verhindern.  \\nKapitalleistungen im Todesfall sind in vollem Umfang von der Einkommensteuer befreit.  \\n1.4 Was müssen Sie bei Vertragsänderungen beachten?  \\nBitte beachten Sie auch, dass die Ausübung von Optionen oder eine Änderung des Vertrags dazu führen \\nkann, dass im Fall der Ausübung des Kapitalwahlrechts oder der Kündigung Ihre Versicherung ganz oder \\nteilweise mit dem vollen Unterschiedsbeitrag der Steuerpfl icht unterliegt. Dies gilt insbesondere für nicht bei \\nVertragsabschluss vereinbarte Beitrags - und Leistungserhöhungen, wenn zwischen dem Datum der Ände-\\nrung und dem Fälligwerden der Kapitalleistung ein Zeitraum von weniger als zwölf Jahren liegt.  \\n1.5 Riester -Förderung  \\nEine Förderung nach § 10a und Abschnitt  XI EStG („Riester -Förderung“) ist bei diesem Produkt nicht mög-\\nlich.  \\n1.6 Rentenbezugsmitteilungsverfahren  \\nGemäß §  22a EStG sind Versicherungsunternehmen verpflichtet, an die Deutsche Rentenversicherung \\nBund über den Bezug von Renten eine Mitteilung zu machen.  \\nDie Mitteilung muss bis zum 1.  März des Jahres erfolgen, das auf das Jahr folgt, in welchem dem Steuer-\\npflichtigen die Rente zugeflossen ist. Hierzu hat der Steuerpflichtige dem Versicherungsunternehmen seine \\nSteueridentifikationsnummer zur Verfügung zu stellen.  \\n1.7 Veräußerung der Versicherungspolice  \\nBei Veräußerungen einer Lebensversicherung müssen wir als Versicherungsunternehmen nach § 20 Abs.  2 \\nNr. 6 S. 2 EStG eine Meldung an das Finanzamt, das für  den Steuerpflichtigen (= Veräußerer) zuständig ist, \\nvornehmen. Auf Verlangen des Steuerpflichtigen (= Veräußerers) stellen wir eine Bescheinigung über die \\nHöhe der entrichteten Beiträge zum Zeitpunkt der Veräußerung aus.  \\n1.8 Steuerpflichtiger  \\nSteuerpflichtiger im Sinne des § 20 Abs.  1 Nr.  6 EStG ist grundsätzlich derjenige, der das Kapital in Form \\nder Sparanteile im eigenen Namen und für eigene Rechnung dem Versicherungsunternehmen zur Nutzung \\nüberlassen hat.  \\nIn der Regel ist der Versicherungsnehmer Steue rpflichtiger, da er die Sparanteile zur Nutzung überlassen \\nhat und auch Inhaber des Rechts ist, die Versicherungsleistung zu fordern.  \\nMit der Einräumung eines unwiderruflichen Bezugsrechts für die steuerpflichtige Versicherungsleistung gilt grundsätzlich der Bezugsberechtigte als Steuerpflichtiger der erzielten Erträge.  \\n \\n \\n ', metadata={'source': '/Users/anuragkotiyal/Desktop/engaige/docs/ParkAllee.pdf', 'page': 8}),\n",
       " Document(page_content='Steuerinformationen  \\n \\n Seite 3 von 4 \\nPA/D/1006/III/11/21  1.9 Erbschaftsteuer und Schenkungsteuer  \\nVersicherungsleistungen, die an den Versicherungsnehmer selbst gezahlt werden, sind erbschaftsteuerfrei. \\nLeistungen an Hinterbliebene unterliegen der Erbschaftsteuer. Ob Erbschaftsteuer gezahlt werden muss, ist \\nabhängig von der Höhe des gesamten erbschaftsteuerlichen Erwerbs und des persönlichen Freibetrags des \\nErwerbers.  \\nSind Versicherungsnehmer und Empfänger der Versicherungsleistung nicht identi sch, so müssen wir vor \\nder Auszahlung der Leistungen eine Meldung an das Finanzamt abgeben. Aufgrund der Regelungen in § 20 Abs.  6 Erbschaftsteuergesetz (ErbStG) benötigen wir vor Auszahlung eine Unbedenklichkeitsbeschei-\\nnigung des Finanzamts, wenn die Zahl ung in das Ausland erfolgen soll.  \\nWird eine Versicherung durch einen Versicherungsnehmerwechsel zu Lebzeiten unentgeltlich übertragen, so unterliegt diese Übertragung der Schenkungsteuer. Ob Schenkungsteuer gezahlt werden muss, ist ab-hängig von der Höhe des gesamten schenkungsteuerlichen Erwerbs und des persönlichen Freibetrags des \\nErwerbers.  \\nJeden Versicherungsnehmerwechsel müssen wir dem für den neuen Versicherungsnehmer zuständigen \\nFinanzamt anzeigen.  \\n2. Versicherungsteuer  \\nDie Beiträge zu aufgeschobenen Rentenversicherungen sind gemäß § 4 des Versicherungsteuergesetzes \\n(VersStG) von der Versicherungsteuer befreit, soweit Sie als Versicherungsnehmer Ihren Wohnsitz, Sitz oder gewöhnlichen Aufenthalt in der Bundesrepublik Deutschland haben.  \\nSollten Sie Ihren Wohnsitz oder Sitz in ein anderes Land verlegen, so kann Ihr Versicherungsvertrag ge-\\nmäß der dortigen Steuergesetzgebung der Versicherungsteuer unterliegen. Gegebenenfalls sind wir dann verpflichtet, Sie mit dieser Versicherungsteuer zu belasten und diese an die zuständigen Stellen abzufüh-\\nren. \\n3. Umsatzsteuer  \\nBei der aufgeschobenen Rentenversicherung sind die Beiträge und Leistungen von der Umsatzsteuer be-freit. \\n4. Datenaustausch zwischen Deutschland und Partnerstaaten  \\nDeutschland hat sich wie einige andere Staaten auch dazu verpflichtet, zur Förderung der Steuerehrlichkeit bei internationalen Sachverhalten Steuerdaten auszutauschen. Dabei verpflichten sich die jeweiligen Staa-ten untereinander (Teilnehmerländer) zum gegenseitigen automatischen Informationsaustausch.  \\nHierzu haben unter anderem Versicherungsunternehmen Daten zu erheben und an das Bundeszentralamt für Steuern zu übermitteln, das die Daten an die zuständigen ausländischen Finanzbehörden der Teilneh-merländer weiterleitet.  \\nVersicherungsnehmer sind dabei grundsätzlich verpflichtet, Ihrer Versicherungsgesellschaft Auskunft über \\neine steuerliche Ansässigkeit außerhalb von Deutschland zu geben. Meldepflichtig durch die Versiche-rungsunternehmen sind hingegen nur solche Verträge, bei denen eine steuerliche Ansässigkeit im einem \\noder mehreren Teilnehmerländern vorliegt.  \\nBei Tod des Versicherungsnehmers treten an dessen Stelle die anspruchsberechtigten Leistungsempfän-\\nger, wenn auch diese in einem Drittstaat steuerlich ansässig sind.  \\nSofern wir aufgrund geset zlicher Regelungen zur Erhebung und Meldung von Informationen und Daten zu \\nIhrem Vertrag verpflichtet sind, müssen Sie uns die hierfür notwendigen Informationen, Daten und Unterla-gen bei Vertragsabschluss, bei Änderung nach Vertragsabschluss oder auf Nachf rage unverzüglich – das \\nheißt ohne schuldhaftes Zögern – zur Verfügung stellen. Sie sind auch zur Mitwirkung verpflichtet, soweit \\nder Status dritter Personen, die Rechte an Ihrem Vertrag haben, für Datenerhebungen und Meldungen maßgeblich ist.  ', metadata={'source': '/Users/anuragkotiyal/Desktop/engaige/docs/ParkAllee.pdf', 'page': 9})]"
      ]
     },
     "execution_count": 5,
     "metadata": {},
     "output_type": "execute_result"
    }
   ],
   "source": [
    "documents[0:10]"
   ]
  },
  {
   "cell_type": "code",
   "execution_count": 6,
   "metadata": {},
   "outputs": [],
   "source": [
    "chunks = split_docs_into_chunks(documents)\n",
    "chunks_with_ids = get_chunk_ids(chunks)"
   ]
  },
  {
   "cell_type": "code",
   "execution_count": 7,
   "metadata": {},
   "outputs": [
    {
     "data": {
      "text/plain": [
       "[Document(page_content='Private Vorsorge \\nInformationen vor Vertragsabschluss Basispaket\\nParkAllee', metadata={'source': '/Users/anuragkotiyal/Desktop/engaige/docs/ParkAllee.pdf', 'page': 0, 'id': '/Users/anuragkotiyal/Desktop/engaige/docs/ParkAllee.pdf:0:0'}),\n",
       " Document(page_content='PA/D/100 6/III/11/21Gesetzlich vorgeschriebene Informationen \\nfür Ihren Versicherungsvertrag\\nFragen und Antworten rund um Standard Life\\nSteuerinformationen\\nSteuerliche Behandlung Ihrer ParkAllee  \\nf\\nondsgebundene Renten versicherung\\nDas Kleingedruckte mal ganz groß \\nVersicherungsbedingungen\\n für Ihre ParkAllee  \\nfondsgebundene R entenversicherung', metadata={'source': '/Users/anuragkotiyal/Desktop/engaige/docs/ParkAllee.pdf', 'page': 1, 'id': '/Users/anuragkotiyal/Desktop/engaige/docs/ParkAllee.pdf:1:0'}),\n",
       " Document(page_content='PA/D/1006/III/11/21   \\n       \\n \\n \\nInhaltsübersicht  \\nGesetzlich vorgeschriebene Informationen für Ihren Versicherungsvertrag  \\nSteuerinformationen  \\nDas Kleingedruckte – mal ganz groß: Allgemeine Versicherungsbedingungen', metadata={'source': '/Users/anuragkotiyal/Desktop/engaige/docs/ParkAllee.pdf', 'page': 2, 'id': '/Users/anuragkotiyal/Desktop/engaige/docs/ParkAllee.pdf:2:0'}),\n",
       " Document(page_content='Gesetzlich vorgeschriebene Informationen  \\n \\n Seite 1 von 3 \\nPA/D/1006/III/11/21  1. Wer ist Ihr Vertragspartner  \\nVersicherer ist die Standard Life International DAC (90 St Stephens Green, Dublin 2, Irland,  \\nRegister -Nr. 408507). Die Anschrift der für Sie zuständigen Zweigniederlassung lautet:  \\nStandard Life Versicherung  \\nZweigniederlassung Deutschland der  \\nStandard Life International DAC  \\nLyoner Straße 15  \\n60528 Frankfurt am Main', metadata={'source': '/Users/anuragkotiyal/Desktop/engaige/docs/ParkAllee.pdf', 'page': 3, 'id': '/Users/anuragkotiyal/Desktop/engaige/docs/ParkAllee.pdf:3:0'}),\n",
       " Document(page_content='Lyoner Straße 15  \\n60528 Frankfurt am Main  \\nLadungsfähige Anschrift und Sitz der Zweigniederlassung  \\nStandard Life Versicherung  \\nZweigniederlassung Deutschland der  \\nStandard Life International DAC  \\nLyoner Straße 15  \\n60528 Frankfurt am Main  \\nDie Zweigniederlassung ist eingetragen beim Amtsgericht Frankfurt am Main unter der Registernumm er \\nHRB 111481.  \\nVertreter der Zweigniederlassung und zugleich Hauptbevollmächtigter ist Richard Reinhard.', metadata={'source': '/Users/anuragkotiyal/Desktop/engaige/docs/ParkAllee.pdf', 'page': 3, 'id': '/Users/anuragkotiyal/Desktop/engaige/docs/ParkAllee.pdf:3:1'}),\n",
       " Document(page_content='Standard Life International DAC ist eine irische Versicherungsgesellschaft mit Sitz in Dublin und gehört zur \\nPhoenix Gruppe in Großbritannien. Standard Life International DAC ist von der irischen Zentralbank CBI \\nzugelassen und wird von ihr nach irischem Aufsichtsrecht reguliert.  \\n2. Was bieten wir an?  \\nUnsere Hauptgeschäftstätigkeit ist der Verkauf von Versicherungen zur Absicherung von biometrischen  \\nRisiken  wie Langlebigkeit, Tod und Berufsunfähigkeit.  \\n3. Wie sprechen wir?', metadata={'source': '/Users/anuragkotiyal/Desktop/engaige/docs/ParkAllee.pdf', 'page': 3, 'id': '/Users/anuragkotiyal/Desktop/engaige/docs/ParkAllee.pdf:3:2'}),\n",
       " Document(page_content='3. Wie sprechen wir?  \\nJegliche schriftliche und mündliche Kommunikation im Zusammenhang mit Ihrem Versicherungsvertrag er-\\nfolgt in deutscher Sprache.  \\n4. Welches Recht ist anwendbar?  \\nFür die Vertragsanbahnung und alle bei uns abgeschlossenen Verträge gilt vertragsrechtlich das Recht der Bundesrepublik Deutschland.  \\n5. Gibt es einen Sicherungsfonds?  \\nStandard Life International DAC gehört keiner Einrichtung zur Sicherung von Ansprüchen der Versicherten an (externer Sicherungsfonds).', metadata={'source': '/Users/anuragkotiyal/Desktop/engaige/docs/ParkAllee.pdf', 'page': 3, 'id': '/Users/anuragkotiyal/Desktop/engaige/docs/ParkAllee.pdf:3:3'}),\n",
       " Document(page_content='Allerdings bestehen EU -weite aufsichtsrechtliche Anforderungen, die dem Insolvenzschutz dienen. Sie ver-\\npflichten Versicherungsgesellschaften in Irland, einschließlich Standard Life International DAC, getrennt ge-\\nhaltene Kapitalanlagen in einem Umf ang vorzuhalten, die die Verpflichtungen gegenüber den Inhabern von \\nVersicherungsverträgen abdecken.', metadata={'source': '/Users/anuragkotiyal/Desktop/engaige/docs/ParkAllee.pdf', 'page': 3, 'id': '/Users/anuragkotiyal/Desktop/engaige/docs/ParkAllee.pdf:3:4'}),\n",
       " Document(page_content='Versicherungsverträgen abdecken.   \\nIm unwahrscheinlichen Fall einer Insolvenz und vorbehaltlich sehr weniger Ausnahmen stehen diese Ver-mögenswerte zunächst den Inhabern von Versicherungsverträgen zu, bevor sie verwendet werden dürfen, um anderweitige Ansprüche zu erfüllen.', metadata={'source': '/Users/anuragkotiyal/Desktop/engaige/docs/ParkAllee.pdf', 'page': 3, 'id': '/Users/anuragkotiyal/Desktop/engaige/docs/ParkAllee.pdf:3:5'}),\n",
       " Document(page_content='Gesetzlich vorgeschriebene Informationen  \\n \\n Seite 2 von 3 \\nPA/D/1006/III/11/21  6. An wen können Sie sich bei Fragen wenden? \\nHaben Sie eine Frage zur Altersvorsorge oder zu Ihrem Vertrag, sollten Sie sich als erstes an Ihren Vermitt-\\nler wenden.  \\nUnsere S ervicemitarbeiter sind von Montag bis Freitag von 9.00 bis 17.00 Uhr für Sie da:  \\nTel.: 0800 2214747 (kostenfrei).  \\nFax: 0800 5892821 \\nE-Mail: kundenservice@standardlife.de', metadata={'source': '/Users/anuragkotiyal/Desktop/engaige/docs/ParkAllee.pdf', 'page': 4, 'id': '/Users/anuragkotiyal/Desktop/engaige/docs/ParkAllee.pdf:4:0'})]"
      ]
     },
     "execution_count": 7,
     "metadata": {},
     "output_type": "execute_result"
    }
   ],
   "source": [
    "chunks_with_ids[0:10]"
   ]
  },
  {
   "cell_type": "code",
   "execution_count": 8,
   "metadata": {},
   "outputs": [
    {
     "name": "stdout",
     "output_type": "stream",
     "text": [
      "The number of loaded docs were 83 and they were split into 546 chunks.\n"
     ]
    }
   ],
   "source": [
    "print(f\"The number of loaded docs were {len(documents)} and they were split into {len(chunks)} chunks.\")"
   ]
  },
  {
   "cell_type": "code",
   "execution_count": 9,
   "metadata": {},
   "outputs": [],
   "source": [
    "# pre-trained hugging face embedding model used to embed user query and loaded data from pdfs\n",
    "model_name = \"danielheinz/e5-base-sts-en-de\"\n",
    "\n",
    "# create a dictionary with model configuration options, specifying to use the CPU for computations\n",
    "model_kwargs = {'device':'cpu'}\n",
    "\n",
    "# create a dictionary with encoding options, specifically setting 'normalize_embeddings' to False\n",
    "encode_kwargs = {'normalize_embeddings': False}\n",
    "\n",
    "# initialize an instance of HuggingFaceEmbeddings with the specified parameters\n",
    "embeddings = HuggingFaceEmbeddings(\n",
    "    model_name = model_name,     \n",
    "    model_kwargs = model_kwargs, \n",
    "    encode_kwargs = encode_kwargs \n",
    ")"
   ]
  },
  {
   "cell_type": "code",
   "execution_count": 10,
   "metadata": {},
   "outputs": [
    {
     "data": {
      "text/plain": [
       "[-0.0462304949760437, -0.06915473937988281, 0.013720380142331123]"
      ]
     },
     "execution_count": 10,
     "metadata": {},
     "output_type": "execute_result"
    }
   ],
   "source": [
    "text = \"Dies ist ein Testdokument.\"\n",
    "query_result = embeddings.embed_query(text)\n",
    "query_result[:3]"
   ]
  },
  {
   "cell_type": "code",
   "execution_count": 11,
   "metadata": {},
   "outputs": [
    {
     "name": "stdout",
     "output_type": "stream",
     "text": [
      "This embedding model creates vector embeddings for chunks in 768 dimensions.\n"
     ]
    }
   ],
   "source": [
    "print(f\"This embedding model creates vector embeddings for chunks in {len(query_result)} dimensions.\")"
   ]
  },
  {
   "cell_type": "code",
   "execution_count": 12,
   "metadata": {},
   "outputs": [],
   "source": [
    "db = FAISS.from_documents(chunks_with_ids, embeddings)"
   ]
  },
  {
   "cell_type": "code",
   "execution_count": 13,
   "metadata": {},
   "outputs": [
    {
     "name": "stdout",
     "output_type": "stream",
     "text": [
      "Ihr Mindestanteil an jedem einzelnen von Ihnen ausgewählten Fonds beträgt 1 Prozent.  \n",
      "5.5 Welche Arten von Fonds bieten wir an?  \n",
      "Die von Ihnen gewählten Fonds ordnen wir dem Fondsvermögen in Ihrem Vertrag zu. Sie können aus drei Fondsarten auswählen, St andard Life Fonds, Managed Portfolios sowie Publikumsfonds verschiedener \n",
      "Fondsgesellschaften.\n",
      "Chunk ID - /Users/anuragkotiyal/Desktop/engaige/docs/ParkAllee.pdf:19:7\n",
      "-----\n",
      "5 Ihr Fondsvermögen .............................................................................................................................4\n",
      "5.1 Was ist Ihr Fondsvermögen?.................................................................................................................4\n",
      "5.2 Wie berechnen wir Ihr Fondsvermögen?...............................................................................................4\n",
      "Chunk ID - /Users/anuragkotiyal/Desktop/engaige/docs/Basispaket+WeitBlick.pdf:10:5\n",
      "-----\n",
      "5.3 Was gilt unter außergewöhnlichen Umständen für die Berechnung von Vermögenswerten? ..............4\n",
      "5.4 Wie investieren wir Ihren Einmalbeitrag? ..............................................................................................4\n",
      "5.5 Welche Arten von Fonds bieten wir an?................................................................................................5\n",
      "Chunk ID - /Users/anuragkotiyal/Desktop/engaige/docs/Basispaket+WeitBlick.pdf:10:6\n",
      "-----\n"
     ]
    }
   ],
   "source": [
    "question = \"Welche Arten von Fonds?\"\n",
    "searchDocs = db.similarity_search_with_score(question, k = 3)\n",
    "for doc, _ in searchDocs:\n",
    "    print(doc.page_content)\n",
    "    print(f\"Chunk ID - {doc.metadata['id']}\")\n",
    "    print(\"-----\")"
   ]
  },
  {
   "cell_type": "code",
   "execution_count": 14,
   "metadata": {},
   "outputs": [],
   "source": [
    "PROMPT_TEMPLATE = \"\"\"\n",
    "Beantworten Sie die Frage nur basierend auf dem folgenden Kontext:\n",
    "\n",
    "{context}\n",
    "\n",
    "---\n",
    "\n",
    "Beantworten Sie die Frage anhand des obigen Kontexts: {question}\n",
    "\"\"\""
   ]
  },
  {
   "cell_type": "code",
   "execution_count": 15,
   "metadata": {},
   "outputs": [],
   "source": [
    "query_text = \"Welche Arten von Fonds werden angeboten?\"\n",
    "\n",
    "searchDocs = db.similarity_search_with_score(question, k = 3)\n",
    "context = \" \".join([doc.page_content for doc, _ in searchDocs])\n",
    "\n",
    "prompt_template = ChatPromptTemplate.from_template(PROMPT_TEMPLATE)\n",
    "prompt = prompt_template.format(context = context, question = query_text)"
   ]
  },
  {
   "cell_type": "code",
   "execution_count": 16,
   "metadata": {},
   "outputs": [
    {
     "name": "stdout",
     "output_type": "stream",
     "text": [
      "Human: \n",
      "Beantworten Sie die Frage nur basierend auf dem folgenden Kontext:\n",
      "\n",
      "Ihr Mindestanteil an jedem einzelnen von Ihnen ausgewählten Fonds beträgt 1 Prozent.  \n",
      "5.5 Welche Arten von Fonds bieten wir an?  \n",
      "Die von Ihnen gewählten Fonds ordnen wir dem Fondsvermögen in Ihrem Vertrag zu. Sie können aus drei Fondsarten auswählen, St andard Life Fonds, Managed Portfolios sowie Publikumsfonds verschiedener \n",
      "Fondsgesellschaften. 5 Ihr Fondsvermögen .............................................................................................................................4\n",
      "5.1 Was ist Ihr Fondsvermögen?.................................................................................................................4\n",
      "5.2 Wie berechnen wir Ihr Fondsvermögen?...............................................................................................4 5.3 Was gilt unter außergewöhnlichen Umständen für die Berechnung von Vermögenswerten? ..............4\n",
      "5.4 Wie investieren wir Ihren Einmalbeitrag? ..............................................................................................4\n",
      "5.5 Welche Arten von Fonds bieten wir an?................................................................................................5\n",
      "\n",
      "---\n",
      "\n",
      "Beantworten Sie die Frage anhand des obigen Kontexts: Welche Arten von Fonds werden angeboten?\n",
      "\n"
     ]
    }
   ],
   "source": [
    "print(prompt)"
   ]
  },
  {
   "cell_type": "code",
   "execution_count": 17,
   "metadata": {},
   "outputs": [],
   "source": [
    "# initialise Ollama minstral model -> need to run ollama serve from terminal before using Ollama\n",
    "model = Ollama(model = \"llama3\")"
   ]
  },
  {
   "cell_type": "code",
   "execution_count": 18,
   "metadata": {},
   "outputs": [],
   "source": [
    "def get_answer(question: str):\n",
    "    \n",
    "    \"\"\" A function that retrives similar documents from our faiss database and pass an enhanced query\n",
    "    through Ollama minstral model to receive a coherent and concide answer to the base query.\n",
    "\n",
    "    Args:\n",
    "        question (str): a question asked by the user.\n",
    "\n",
    "    Returns:\n",
    "        str: formatted text response from the minstral model that contains source material for the answer.\n",
    "    \"\"\"\n",
    "    \n",
    "    # retrieve top 3 relevant document chunks from the database based on user's query \n",
    "    results = db.similarity_search_with_score(question, k = 3)\n",
    "    context = \" \".join([doc.page_content for doc, _ in results])\n",
    "    \n",
    "    # create a prompt template for Ollama\n",
    "    prompt_template = ChatPromptTemplate.from_template(PROMPT_TEMPLATE)\n",
    "    \n",
    "    # create a proper prompt using langchains LLM prompt\n",
    "    prompt = prompt_template.format(context = context, question = question)\n",
    "    \n",
    "    # get sources of the relevant docs in this case the unique id we created for the chunks\n",
    "    sources = [doc.metadata.get(\"id\", None) for doc, _score in results]\n",
    "    \n",
    "    # get a response to the enhanced query from Ollama\n",
    "    response_text = model.invoke(prompt)\n",
    "    \n",
    "    # format response so that it contains model's answer as well the source documents it used to generate that answer\n",
    "    formatted_response = f\"Response: {response_text}\\n\\nSources: {sources}\"\n",
    "    \n",
    "    return formatted_response"
   ]
  },
  {
   "cell_type": "code",
   "execution_count": 19,
   "metadata": {},
   "outputs": [],
   "source": [
    "# question 1 in German from query.txt\n",
    "query = \"Welche Arten von Fonds werden angeboten?\"\n",
    "answer = get_answer(question = query)"
   ]
  },
  {
   "cell_type": "code",
   "execution_count": 20,
   "metadata": {},
   "outputs": [
    {
     "name": "stdout",
     "output_type": "stream",
     "text": [
      "Response: Die von Ihnen ausgewählten Fondsarten sind:\n",
      "\n",
      "1. Standard Life Fonds\n",
      "2. Managed Portfolios\n",
      "3. Publikumsfonds verschiedener Fondsgesellschaften\n",
      "\n",
      "Sources: ['/Users/anuragkotiyal/Desktop/engaige/docs/ParkAllee.pdf:19:7', '/Users/anuragkotiyal/Desktop/engaige/docs/Basispaket+WeitBlick.pdf:16:0', '/Users/anuragkotiyal/Desktop/engaige/docs/Basispaket+WeitBlick.pdf:16:3']\n"
     ]
    }
   ],
   "source": [
    "print(answer)"
   ]
  },
  {
   "cell_type": "code",
   "execution_count": 21,
   "metadata": {},
   "outputs": [],
   "source": [
    "# question 2 in German from query.txt\n",
    "query = \"Wie sieht es mit den Abzügen von der Kirchensteuer aus?\"\n",
    "answer = get_answer(question = query)"
   ]
  },
  {
   "cell_type": "code",
   "execution_count": 22,
   "metadata": {},
   "outputs": [
    {
     "name": "stdout",
     "output_type": "stream",
     "text": [
      "Response: Nach dem oben genannten Kontext erfolgt die Kirchensteuerabgabe ab dem 1. Januar 2015 automatisch bei der Abgeltungsteuer, also bei Kapitalerträgen, die als Abgeltung besteuert werden.\n",
      "\n",
      "Sources: ['/Users/anuragkotiyal/Desktop/engaige/docs/ParkAllee.pdf:7:4', '/Users/anuragkotiyal/Desktop/engaige/docs/Basispaket+WeitBlick.pdf:6:3', '/Users/anuragkotiyal/Desktop/engaige/docs/ParkAllee.pdf:7:6']\n"
     ]
    }
   ],
   "source": [
    "print(answer)"
   ]
  },
  {
   "cell_type": "code",
   "execution_count": 23,
   "metadata": {},
   "outputs": [],
   "source": [
    "# question 3 in German from query.txt\n",
    "query = \"An wen kann ich mich wenden, wenn ich Fragen habe?\"\n",
    "answer = get_answer(question = query)"
   ]
  },
  {
   "cell_type": "code",
   "execution_count": 24,
   "metadata": {},
   "outputs": [
    {
     "name": "stdout",
     "output_type": "stream",
     "text": [
      "Response: Sie sollten sich als erstes an Ihren Vermittler wenden. Unsere Servicemitarbeiter sind von Montag bis Freitag von 9:00 bis 17:00 Uhr für Sie da:\n",
      "\n",
      "* Tel.: 0800 2214747 (kostenfrei)\n",
      "* Fax: 0800 5892821\n",
      "* E-Mail: kundenservice@standardlife.de\n",
      "\n",
      "Sources: ['/Users/anuragkotiyal/Desktop/engaige/docs/ParkAllee.pdf:4:0', '/Users/anuragkotiyal/Desktop/engaige/docs/Basispaket+WeitBlick.pdf:3:0', '/Users/anuragkotiyal/Desktop/engaige/docs/ParkAllee.pdf:31:5']\n"
     ]
    }
   ],
   "source": [
    "print(answer)"
   ]
  },
  {
   "cell_type": "code",
   "execution_count": 25,
   "metadata": {},
   "outputs": [],
   "source": [
    "# question 4 in German from query.txt\n",
    "query = \"Wie bestimmen Sie die Höhe der Auszahlung?\"\n",
    "answer = get_answer(question = query)"
   ]
  },
  {
   "cell_type": "code",
   "execution_count": 26,
   "metadata": {},
   "outputs": [
    {
     "name": "stdout",
     "output_type": "stream",
     "text": [
      "Response: Laut dem vorgelegten Text ermitteln wir den Geldwert des Fondsvermögens in Ihrem Vertrag zum maßgeblichen Stichtag. Dieses Fondsvermögen ergibt sich aus der Summe aller Anteilseinheiten der Fonds in Ihrem Vertrag multipliziert mit dem jeweiligen Anteilspreis des Fonds zum Stichtag.\n",
      "\n",
      "Sources: ['/Users/anuragkotiyal/Desktop/engaige/docs/Basispaket+WeitBlick.pdf:10:9', '/Users/anuragkotiyal/Desktop/engaige/docs/ParkAllee.pdf:12:9', '/Users/anuragkotiyal/Desktop/engaige/docs/Basispaket+WeitBlick.pdf:21:0']\n"
     ]
    }
   ],
   "source": [
    "print(answer)"
   ]
  },
  {
   "cell_type": "code",
   "execution_count": 27,
   "metadata": {},
   "outputs": [],
   "source": [
    "# question 5 in German from query.txt\n",
    "query = \"Welche allgemeinen Versicherungsbedingungen gelten?\"\n",
    "answer = get_answer(question = query)"
   ]
  },
  {
   "cell_type": "code",
   "execution_count": 28,
   "metadata": {},
   "outputs": [
    {
     "name": "stdout",
     "output_type": "stream",
     "text": [
      "Response: Nach dem obigen Text gilt Folgendes:\n",
      "\n",
      "Die Allgemeine Versicherungsbedingungen sind in der Dokumentation \"BASIS_PACK_WBWB/D/1006/XIII/03/22\" zu finden, insbesondere im Abschnitt \"1. Allgemeine Versicherungsbedingungen .....................................................................................................1\".\n",
      "\n",
      "Sources: ['/Users/anuragkotiyal/Desktop/engaige/docs/Basispaket+WeitBlick.pdf:1:0', '/Users/anuragkotiyal/Desktop/engaige/docs/Basispaket+WeitBlick.pdf:10:0', '/Users/anuragkotiyal/Desktop/engaige/docs/Basispaket+WeitBlick.pdf:33:1']\n"
     ]
    }
   ],
   "source": [
    "print(answer)"
   ]
  }
 ],
 "metadata": {
  "kernelspec": {
   "display_name": "env",
   "language": "python",
   "name": "python3"
  },
  "language_info": {
   "codemirror_mode": {
    "name": "ipython",
    "version": 3
   },
   "file_extension": ".py",
   "mimetype": "text/x-python",
   "name": "python",
   "nbconvert_exporter": "python",
   "pygments_lexer": "ipython3",
   "version": "3.9.13"
  }
 },
 "nbformat": 4,
 "nbformat_minor": 2
}

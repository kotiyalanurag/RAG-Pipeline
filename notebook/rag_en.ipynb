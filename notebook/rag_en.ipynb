{
 "cells": [
  {
   "cell_type": "code",
   "execution_count": 1,
   "metadata": {},
   "outputs": [],
   "source": [
    "import sys\n",
    "sys.path.append(\"..\")\n",
    "\n",
    "from langchain.vectorstores import FAISS\n",
    "from langchain_huggingface import HuggingFaceEmbeddings\n",
    "\n",
    "from langchain.document_loaders.pdf import PyPDFDirectoryLoader\n",
    "from langchain.text_splitter import RecursiveCharacterTextSplitter\n",
    "\n",
    "from langchain.prompts import ChatPromptTemplate\n",
    "from langchain_community.llms.ollama import Ollama\n",
    "\n",
    "import warnings\n",
    "warnings.filterwarnings(\"ignore\")"
   ]
  },
  {
   "cell_type": "code",
   "execution_count": 2,
   "metadata": {},
   "outputs": [],
   "source": [
    "DATA_PATH = \"/Users/anuragkotiyal/Desktop/engaige/docs_en\""
   ]
  },
  {
   "cell_type": "code",
   "execution_count": 3,
   "metadata": {},
   "outputs": [],
   "source": [
    "def load_docs(data_dir):\n",
    "    \n",
    "    \"\"\" A simple function that loads data from all pdfs inside a directory.\n",
    "\n",
    "    Args:\n",
    "        DATA_DIR (path): Path to the directory where pdf documents are stored.\n",
    "\n",
    "    Returns:\n",
    "        list(tuple): returns a list of tuples where each tuple contains \"page content\" of the document and\n",
    "        some meta deta like \"source\" and \"page number\" i.e., [Document(page_content = \"Tax information ...\",\n",
    "        metadata = {\"source\": \"doc_1.pdf\", \"page\": 10})].\n",
    "    \"\"\"\n",
    "    \n",
    "    # create an instance of document loader using the pypdfdirectoryloader from langchain\n",
    "    document_loader = PyPDFDirectoryLoader(data_dir)\n",
    "    \n",
    "    return document_loader.load()\n",
    "\n",
    "def split_docs_into_chunks(documents, chunk_size = 500, chunk_overlap = 50):\n",
    "    \n",
    "    \"\"\" A function that split a document into chunks of specific sizes like 500 characters.\n",
    "\n",
    "    Args:\n",
    "        documents (list(tuple)): a list of tuples where each tuple contains \"page content\" of the document and\n",
    "        some meta deta like \"source\" and \"page number\".\n",
    "\n",
    "    Returns:\n",
    "        list(tuples): similar to the format in which data came but any document larger than chunk_size has been split\n",
    "        into multiple chunks.\n",
    "    \"\"\"\n",
    "    \n",
    "    # create an instance of recursive character text splitter from langchain\n",
    "    text_splitter = RecursiveCharacterTextSplitter(\n",
    "        chunk_size = chunk_size,\n",
    "        chunk_overlap = chunk_overlap,\n",
    "        length_function = len,\n",
    "        is_separator_regex = False,\n",
    "    )\n",
    "    \n",
    "    return text_splitter.split_documents(documents)    \n",
    "\n",
    "def get_chunk_ids(chunks):\n",
    "\n",
    "    \"\"\" A function that creates a unique identifier for each chunk in the database like \"docs/doc_name:page_num:chunk_id\".\n",
    "    A chunk id of \"docs/doc_1.pdf:10:5\" refers to the 5th chunk on page 10 of doc_1.pdf. \n",
    "\n",
    "    Returns:\n",
    "        list(tuple): returns a list of tuples where each tuple contains \"page content\" of the document and\n",
    "        some meta deta like \"source\", \"page number\", and \"chunk_id\"\n",
    "    \"\"\"\n",
    "\n",
    "    last_page_id = None\n",
    "    current_chunk_index = 0\n",
    "\n",
    "    for chunk in chunks:\n",
    "        # get source and page number from metadata to create a current page id\n",
    "        source = chunk.metadata.get(\"source\")\n",
    "        page = chunk.metadata.get(\"page\")\n",
    "        current_page_id = f\"{source}:{page}\"\n",
    "\n",
    "        # if the page ID is the same as the last one, increment the index.\n",
    "        if current_page_id == last_page_id:\n",
    "            current_chunk_index += 1\n",
    "        else:\n",
    "            current_chunk_index = 0\n",
    "\n",
    "        # calculate the chunk ID.\n",
    "        chunk_id = f\"{current_page_id}:{current_chunk_index}\"\n",
    "        last_page_id = current_page_id\n",
    "\n",
    "        # add it to the page meta-data.\n",
    "        chunk.metadata[\"id\"] = chunk_id\n",
    "\n",
    "    return chunks"
   ]
  },
  {
   "cell_type": "code",
   "execution_count": 4,
   "metadata": {},
   "outputs": [],
   "source": [
    "documents = load_docs(DATA_PATH)"
   ]
  },
  {
   "cell_type": "code",
   "execution_count": 5,
   "metadata": {},
   "outputs": [
    {
     "data": {
      "text/plain": [
       "[Document(page_content='Translated from German to English - www.onlinedoctranslator.com', metadata={'source': '/Users/anuragkotiyal/Desktop/engaige/docs_en/Basispaket+WeitBlick_en.pdf', 'page': 0}),\n",
       " Document(page_content='Table of contents\\nInformation for your insurance contract\\nTax information\\nThe small print – in a nutshell: General insurance conditions\\nBASIC_PACK_WBWB/ D/1006/ XIII/ 03/22', metadata={'source': '/Users/anuragkotiyal/Desktop/engaige/docs_en/Basispaket+WeitBlick_en.pdf', 'page': 1}),\n",
       " Document(page_content='Information for your insurance contract\\n1 Who is your contractual partner\\nThe insurer is Standard Life International DAC (90 St Stephens Green, Dublin 2, Ireland, \\nregistration number 408507). The address of the branch responsible for you is:\\nStandard Life Insurance German \\nbranch of Standard Life International \\nDAC Lyoner Straße 9\\n60528 Frankfurt am Main\\nAddress and registered office of the Standard Life \\nInsurance branch\\nGerman branch of Standard Life \\nInternational DAC Lyoner Straße 9\\n60528 Frankfurt\\nThe branch is registered with the local court of Frankfurt am Main under registration number HRB \\n111481.\\nRepresentative of the branch and also main representative: Richard Reinhard.\\nStandard Life International DAC is an Irish insurance company based in Dublin and part of the Phoenix \\nGroup in the UK. Standard Life International DAC is authorised by the Central Bank of Ireland (CBI) and \\nregulated by it under Irish regulatory law.\\n2 What do we offer?\\nOur main business is the sale of life insurance to cover biometric risks such as longevity, death \\nand disability.\\n3 How do we speak?\\nAll written and oral communication in connection with your insurance contract will be in German.\\n4 Which law is applicable?\\nThe contractual terms and conditions and the pre-contractual information are provided in German. The law \\nof the Federal Republic of Germany applies to the contract initiation and all contracts concluded with us.\\n5 Is there a guarantee fund?\\nStandard Life International DAC does not belong to any institution that secures the claims of its insured persons \\n(external guarantee fund).\\nHowever, there are EU-wide regulatory requirements designed to protect against insolvency that require \\ninsurance companies in Ireland, including Standard Life International DAC, to maintain segregated \\ninvestments sufficient to cover their obligations to policyholders.\\nIn the unlikely event of insolvency, and subject to very few exceptions, these assets will first go to the \\nholders of insurance policies before they can be used to meet other claims.\\nPage 1 of 3\\nBASIC_PACK_WBWB/ D/1006/ XIII/ 03/22', metadata={'source': '/Users/anuragkotiyal/Desktop/engaige/docs_en/Basispaket+WeitBlick_en.pdf', 'page': 2}),\n",
       " Document(page_content='Information for your insurance contract\\n6 Who can you contact if you have any questions?\\nIf you have a question about your pension plan or your contract, you should first contact your \\nbroker.\\nOur service staff are available for you from Monday to Friday from 9:00 a.m. to 5:00 p.m.:\\nTel.: 0800 2214747 (free of charge). \\nFax: 0800 5892821\\nEmail: kundenservice@standardlife.de\\n7 What options are there for out- of-court complaints and legal redress procedures?\\nIf you are not satisfied with our services or our service, please contact our complaints management.\\nWe will try to answer your request within six working days – we are often faster, but in individual cases it \\nmay take longer. You can reach our complaints management at\\nStandardLife\\nComplaint management\\nLyoner Strasse 9\\n60528 Frankfurt\\nEmail: complaint@standardlife.de \\nFax: 069-665722901\\nAs a free, out-of-court arbitration body, you can use the\\nInsurance Ombudsman e. V. PO \\nBox 08 06 32\\n10006 Berlin\\nPhone: 0800 3696000\\nEmail: beschwerde@versicherungsombudsmann.de \\nwww.versicherungsombudsmann.de\\nclaim.\\nYou can apply to the Ombudsman for dispute resolution for claims arising from your contract after you \\nhave first given us the opportunity to review our decision. The Ombudsman will not deal with a \\ncomplaint that is simultaneously the subject of a court case or a complaint to the Federal Financial \\nSupervisory Authority (BaFin). However, once proceedings at BaFin have been concluded, the \\nOmbudsman procedure can be resumed.\\nOf course, you also have the option of taking legal action instead of or after the \\nombudsman procedure has ended.\\nYou can also address complaints to the supervisory authorities responsible for us.\\n8 Which supervisory authorities are there?\\nStandard Life International DAC is authorised and regulated in Ireland by the Central Bank of Ireland (CBI).\\nCentral Bank of Ireland PO Box 559 \\nDublin 1\\nIreland\\nThe German branch is subject to legal and financial supervision by the Central Bank of Ireland (CBI), and \\nalso to legal supervision by the German Federal Financial Supervisory Authority (BaFin):\\npage 2 of 3\\nBASIC_PACK_WBWB/ D/1006/ XIII/ 03/22', metadata={'source': '/Users/anuragkotiyal/Desktop/engaige/docs_en/Basispaket+WeitBlick_en.pdf', 'page': 3}),\n",
       " Document(page_content='Information for your insurance contract\\nFederal Financial Supervisory Authority \\nInsurance Division\\nGraurheindorfer Strasse 108 \\n53117 Bonn\\nPhone: 0228 41080\\nEmail: poststelle@bafin.de \\nwww.bafin.de\\npage 3 of 3\\nBASIC_PACK_WBWB/ D/1006/ XIII/ 03/22', metadata={'source': '/Users/anuragkotiyal/Desktop/engaige/docs_en/Basispaket+WeitBlick_en.pdf', 'page': 4}),\n",
       " Document(page_content='Tax information about WeitBlick\\nThe following information provides you with an overview of the key tax regulations relating to \\nyour insurance contract. They are based on the tax legislation in force at the time of printing.\\nThis is only general information that is not part of the life insurance contract concluded with you. In \\nparticular, in individual cases it does not replace tax advice from your tax advisor.\\nDuring the term of the contract, case law and changes to laws and regulations may have an impact on \\nyour insurance contract that we cannot influence.\\nPlease also bear in mind that changes to the contract may have tax consequences. Please therefore inform \\nyourself before making any changes to the contract.\\nBASIC_PACK_WBWB/ D/1006/ XIII/ 03/22', metadata={'source': '/Users/anuragkotiyal/Desktop/engaige/docs_en/Basispaket+WeitBlick_en.pdf', 'page': 5}),\n",
       " Document(page_content='Tax information\\n1 Income tax\\n1.1 The tax treatment of contributions\\nContributions from capital life insurance policies are not tax deductible as special expenses.\\n1.2 The tax treatment of the capital payment\\na)Full difference\\nPayments from a life insurance policy are subject to tax. The difference between the payout \\namount and the total of the premiums paid is taxable.\\nWe have to levy a 25 percent capital gains tax on this difference. We pay this directly to the relevant tax \\noffice in accordance with Section 43 Paragraph 3 Sentence 1 of the Income Tax Act, as well as the \\nassociated solidarity surcharge and, if applicable, church tax (see also c).\\nThis means that the income tax on this income is paid (withholding tax). A more favorable assessment \\n(withholding tax or individual taxation) can be requested by the taxpayer as part of the income tax \\nreturn.\\nb)Half the difference\\nOnly half of the difference is subject to income tax if the payment is made after twelve years from the \\nconclusion of the contract and after the taxpayer has reached the age of 62.\\nIn this case, the insurance company will still pay capital gains tax, solidarity surcharge and, if \\napplicable, church tax on the full difference. These tax amounts are advance payments on personal \\nincome tax. The amount of tax actually payable is then only determined as part of the taxpayer\\'s \\nincome tax assessment using his or her individual tax rate, taking into account the amount paid by the \\ninsurer.\\nc)Automatic church tax deduction procedure for the withholding tax\\nFrom January 1, 2015, church tax on capital gains taxed at a flat rate will be automatically withheld \\nand paid to the religious communities that collect the tax. \"Automatic\" means that as a member of \\nyour religious community, you will no longer have to do anything else to meet your church tax \\nobligations in connection with the flat rate tax.\\nIf you do not want us to collect the church tax on capital gains subject to final taxation, but rather the \\ntax office responsible for you, you must object to the transmission of your religious affiliation to us. \\nAn officially prescribed form for this blocking notice declaration is available at www.formulare-\\nbfinv.de under the keyword \"church tax\", which you must submit to the Federal Central Tax Office \\n(BZSt).\\nIf a blocking notice has been issued or there is no obligation to pay church tax, we will receive a neutral \\nzero value in response to our request. This value has no content and cannot be interpreted. It is \\ntherefore not possible to draw any conclusions about religious affiliation or non- religious affiliation, nor \\ncan it be used to determine whether a blocking notice exists or not.\\nd)Miscellaneous\\nUpon your request, we will issue a corresponding tax certificate.\\nBy submitting an exemption order or a non- assessment certificate, you can prevent the withholding \\nof capital gains tax, solidarity surcharge and, if applicable, church tax in whole or in part.\\nCapital payments in the event of death are fully exempt from income tax.\\nPage 1 of 3\\nBASIC_PACK_WBWB/ D/1006/ XIII/ 03/22', metadata={'source': '/Users/anuragkotiyal/Desktop/engaige/docs_en/Basispaket+WeitBlick_en.pdf', 'page': 6}),\n",
       " Document(page_content=\"Tax information\\n1.3 What do you need to consider when making changes to your contract?\\nPlease also note that changes to your contract may result in payments from a life insurance policy being \\nsubject to tax in whole or in part with the full difference in the event of survival, partial payout or \\nsurrender of the contract.\\n1.4 Sale of an insurance policy\\nWhen a life insurance policy is sold, we as an insurance company must report this to the tax office \\nresponsible for the taxpayer (= seller) in accordance with Section 20 Paragraph 2 No. 6 of the Income Tax \\nAct. At the taxpayer's request, we will issue a certificate stating the amount of premiums paid at the time \\nof the sale.\\n1.5 Taxpayer\\nIn principle, the taxpayer within the meaning of Section 20 Paragraph 1 No. 6 of the Income Tax Act is the person who has \\ntransferred the capital in the form of savings shares to the insurance company for use in his own name and for his own account.\\nAs a rule, policyholders are liable to pay tax – in the case of two policyholders, in proportion to their \\nshares in the contract – since they have provided the savings shares for use and also hold the right to \\nclaim the insurance benefit.\\nBy granting an irrevocable right to subscribe to the taxable insurance benefit, the beneficiary is generally \\nconsidered to be liable to pay tax on the income generated.\\n1.6 Inheritance tax and gift tax\\nInsurance benefits paid to the policyholder themselves are exempt from inheritance tax. Benefits paid to \\nsurvivors are subject to inheritance tax. Whether inheritance tax has to be paid depends on the amount of \\nthe total inheritance taxable acquisition and the personal allowance of the acquirer.\\nIf the policyholder and the recipient of the insurance benefit are not the same, we must submit a report \\nto the tax office before paying out the benefits. Due to the regulations in Section 20 Paragraph 6 of the \\nInheritance Tax Act (ErbStG), we require a\\nCertificate of clearance from the tax office if the payment is to be made abroad.\\nIf an insurance policy is transferred free of charge during the lifetime of the policyholder or if the shares \\nin the contract are changed for two policyholders, the resulting transfers are subject to gift tax. Whether \\ngift tax has to be paid depends on the amount of the total gift tax acquisition and the personal allowance \\nof the purchaser.\\nWe must report any change of policyholder or, in the case of two policyholders, any change in the shares \\nin the contract to the tax office responsible for the new policyholder.\\n2 Insurance tax\\nAccording to Section 4 of the Insurance Tax Act (VersStG), contributions to capital life insurance policies are \\nexempt from insurance tax if you, as the policyholder, have your place of residence or habitual abode in the \\nFederal Republic of Germany.\\nIf you move your place of residence to another country, your insurance contract may be subject to insurance \\ntax in accordance with the tax legislation there. We may then be obliged to charge you this insurance tax \\nand pay it to the relevant authorities.\\npage 2 of 3\\nBASIC_PACK_WBWB/ D/1006/ XIII/ 03/22\", metadata={'source': '/Users/anuragkotiyal/Desktop/engaige/docs_en/Basispaket+WeitBlick_en.pdf', 'page': 7}),\n",
       " Document(page_content=\"Tax information\\n3 VAT\\nIn the case of capital life insurance, premiums and benefits are exempt from sales tax.\\n4 Data exchange between Germany and the partner states\\nLike several other countries, Germany has committed itself to exchanging tax data in international matters \\nin order to promote tax honesty. The respective countries commit themselves to the automatic mutual \\nexchange of information among themselves (participating countries).\\nTo this end, insurance companies, among others, must collect data and transmit it to the Federal Central \\nTax Office, which forwards the data to the relevant foreign tax authorities in the participating countries.\\nPolicyholders are generally obliged to provide their insurance company with information about their tax \\nresidence outside of Germany. However, insurance companies are only required to report contracts for \\nwhich there is a tax residence in one or more participating countries.\\nIn the event of the death of the policyholder, the beneficiaries entitled to benefits take \\nhis place, even if they are resident for tax purposes in a third country.\\nIf we are required by law to collect and report information and data relating to your contract, you must \\nprovide us with the information, data and documents required for this purpose immediately - i.e. without \\nundue delay - when the contract is concluded, when changes are made after the contract is concluded or \\nupon request. You are also obliged to cooperate if the status of third parties who have rights to your \\ncontract is relevant for data collection and reporting.\\nThe information to be obtained and exchanged includes, among other things, personal details, address, \\ntax identification number of the policyholder or the surviving beneficiaries, contract number and the value \\nof the contract at the end of the calendar year or at the time of the benefit payment.\\nIf you move your place of residence to another country, this may result in a change in the tax treatment \\nof your insurance contract.\\n5. Note for accounting companies\\nThe above tax information does not generally apply to policyholders in the legal form of a company that \\nprepares financial statements. Companies that prepare financial statements can usually claim the \\ncontributions as business expenses for tax purposes. In return, the insurance benefit from the \\nreinsurance represents business income for the employer. The value of the insurance is part of the \\ncompany's assets and must be capitalized.\\nIf the insurance benefit consists of a capital payment, the insurance company must withhold 25 percent \\ncapital gains tax plus the solidarity surcharge on the full difference and pay it to the tax office. Companies \\nsubject to corporation tax are not subject to the flat-rate tax that has been in force since 2009.\\nSince the reinsurance is always taxed when activated, the company as policyholder can offset the capital \\ngains tax against the next tax prepayment. Please contact your tax advisor for binding information.\\npage 3 of 3\\nBASIC_PACK_WBWB/ D/1006/ XIII/ 03/22\", metadata={'source': '/Users/anuragkotiyal/Desktop/engaige/docs_en/Basispaket+WeitBlick_en.pdf', 'page': 8}),\n",
       " Document(page_content='Welcome to Standard Life Your \\ninsurance terms and conditions\\nDear policyholder,\\nHow nice that you have decided to take out an insurance policy with us for WeitBlick unit- linked life \\ninsurance. We are Standard Life Insurance, the German branch of Standard Life International DAC, \\nbased in Frankfurt am Main.\\nIn these Insurance conditions we explain the agreements that apply to you as the policyholder for \\nyour contract. We distinguish between the Policyholder and theinsured person : The policyholder is \\nthe person who has concluded the contract. The insured person is the person on whose life the \\ninsurance is taken out.\\nIf you have concluded your contract with a family option, the supplementary insurance conditions for \\nWeitBlick unit- linked life insurance with two policyholders and/ or two insured persons (Appendix Family \\nOption) apply to you.\\nPlease read the insurance terms and conditions carefully and keep them with your Insurance certificate\\n(Document with important data on the insured risk or the start, duration of the insurance, etc.) and any \\nsupplements to the insurance policy that may be sent to you in the event of changes to the contract. \\nSuch Addendums are also part of the insurance contract.\\nWe have highlighted important terms with a→marked and inglossary explained for you in the appendix.\\nIf you have any questions, please contact your agent –   he or she will be happy to help you.\\nBest regards\\nYour Standard Life Insurance\\nPS: We want to address people of all genders equally and therefore choose neutral spellings wherever \\npossible. However, we ask for your understanding that, for reasons of space or for the sake of reading \\nflow, we sometimes only use the binary or only the male spelling.\\nBASIC_PACK_WBWB/ D/1006/ XIII/ 03/22', metadata={'source': '/Users/anuragkotiyal/Desktop/engaige/docs_en/Basispaket+WeitBlick_en.pdf', 'page': 9})]"
      ]
     },
     "execution_count": 5,
     "metadata": {},
     "output_type": "execute_result"
    }
   ],
   "source": [
    "documents[0:10]"
   ]
  },
  {
   "cell_type": "code",
   "execution_count": 6,
   "metadata": {},
   "outputs": [],
   "source": [
    "chunks = split_docs_into_chunks(documents)\n",
    "chunks_with_ids = get_chunk_ids(chunks)"
   ]
  },
  {
   "cell_type": "code",
   "execution_count": 7,
   "metadata": {},
   "outputs": [
    {
     "data": {
      "text/plain": [
       "[Document(page_content='Translated from German to English - www.onlinedoctranslator.com', metadata={'source': '/Users/anuragkotiyal/Desktop/engaige/docs_en/Basispaket+WeitBlick_en.pdf', 'page': 0, 'id': '/Users/anuragkotiyal/Desktop/engaige/docs_en/Basispaket+WeitBlick_en.pdf:0:0'}),\n",
       " Document(page_content='Table of contents\\nInformation for your insurance contract\\nTax information\\nThe small print – in a nutshell: General insurance conditions\\nBASIC_PACK_WBWB/ D/1006/ XIII/ 03/22', metadata={'source': '/Users/anuragkotiyal/Desktop/engaige/docs_en/Basispaket+WeitBlick_en.pdf', 'page': 1, 'id': '/Users/anuragkotiyal/Desktop/engaige/docs_en/Basispaket+WeitBlick_en.pdf:1:0'}),\n",
       " Document(page_content='Information for your insurance contract\\n1 Who is your contractual partner\\nThe insurer is Standard Life International DAC (90 St Stephens Green, Dublin 2, Ireland, \\nregistration number 408507). The address of the branch responsible for you is:\\nStandard Life Insurance German \\nbranch of Standard Life International \\nDAC Lyoner Straße 9\\n60528 Frankfurt am Main\\nAddress and registered office of the Standard Life \\nInsurance branch\\nGerman branch of Standard Life \\nInternational DAC Lyoner Straße 9', metadata={'source': '/Users/anuragkotiyal/Desktop/engaige/docs_en/Basispaket+WeitBlick_en.pdf', 'page': 2, 'id': '/Users/anuragkotiyal/Desktop/engaige/docs_en/Basispaket+WeitBlick_en.pdf:2:0'}),\n",
       " Document(page_content='International DAC Lyoner Straße 9\\n60528 Frankfurt\\nThe branch is registered with the local court of Frankfurt am Main under registration number HRB \\n111481.\\nRepresentative of the branch and also main representative: Richard Reinhard.\\nStandard Life International DAC is an Irish insurance company based in Dublin and part of the Phoenix \\nGroup in the UK. Standard Life International DAC is authorised by the Central Bank of Ireland (CBI) and \\nregulated by it under Irish regulatory law.', metadata={'source': '/Users/anuragkotiyal/Desktop/engaige/docs_en/Basispaket+WeitBlick_en.pdf', 'page': 2, 'id': '/Users/anuragkotiyal/Desktop/engaige/docs_en/Basispaket+WeitBlick_en.pdf:2:1'}),\n",
       " Document(page_content='regulated by it under Irish regulatory law.\\n2 What do we offer?\\nOur main business is the sale of life insurance to cover biometric risks such as longevity, death \\nand disability.\\n3 How do we speak?\\nAll written and oral communication in connection with your insurance contract will be in German.\\n4 Which law is applicable?\\nThe contractual terms and conditions and the pre-contractual information are provided in German. The law', metadata={'source': '/Users/anuragkotiyal/Desktop/engaige/docs_en/Basispaket+WeitBlick_en.pdf', 'page': 2, 'id': '/Users/anuragkotiyal/Desktop/engaige/docs_en/Basispaket+WeitBlick_en.pdf:2:2'}),\n",
       " Document(page_content='of the Federal Republic of Germany applies to the contract initiation and all contracts concluded with us.\\n5 Is there a guarantee fund?\\nStandard Life International DAC does not belong to any institution that secures the claims of its insured persons \\n(external guarantee fund).\\nHowever, there are EU-wide regulatory requirements designed to protect against insolvency that require \\ninsurance companies in Ireland, including Standard Life International DAC, to maintain segregated', metadata={'source': '/Users/anuragkotiyal/Desktop/engaige/docs_en/Basispaket+WeitBlick_en.pdf', 'page': 2, 'id': '/Users/anuragkotiyal/Desktop/engaige/docs_en/Basispaket+WeitBlick_en.pdf:2:3'}),\n",
       " Document(page_content='investments sufficient to cover their obligations to policyholders.\\nIn the unlikely event of insolvency, and subject to very few exceptions, these assets will first go to the \\nholders of insurance policies before they can be used to meet other claims.\\nPage 1 of 3\\nBASIC_PACK_WBWB/ D/1006/ XIII/ 03/22', metadata={'source': '/Users/anuragkotiyal/Desktop/engaige/docs_en/Basispaket+WeitBlick_en.pdf', 'page': 2, 'id': '/Users/anuragkotiyal/Desktop/engaige/docs_en/Basispaket+WeitBlick_en.pdf:2:4'}),\n",
       " Document(page_content='Information for your insurance contract\\n6 Who can you contact if you have any questions?\\nIf you have a question about your pension plan or your contract, you should first contact your \\nbroker.\\nOur service staff are available for you from Monday to Friday from 9:00 a.m. to 5:00 p.m.:\\nTel.: 0800 2214747 (free of charge). \\nFax: 0800 5892821\\nEmail: kundenservice@standardlife.de\\n7 What options are there for out- of-court complaints and legal redress procedures?', metadata={'source': '/Users/anuragkotiyal/Desktop/engaige/docs_en/Basispaket+WeitBlick_en.pdf', 'page': 3, 'id': '/Users/anuragkotiyal/Desktop/engaige/docs_en/Basispaket+WeitBlick_en.pdf:3:0'}),\n",
       " Document(page_content='If you are not satisfied with our services or our service, please contact our complaints management.\\nWe will try to answer your request within six working days – we are often faster, but in individual cases it \\nmay take longer. You can reach our complaints management at\\nStandardLife\\nComplaint management\\nLyoner Strasse 9\\n60528 Frankfurt\\nEmail: complaint@standardlife.de \\nFax: 069-665722901\\nAs a free, out-of-court arbitration body, you can use the\\nInsurance Ombudsman e. V. PO \\nBox 08 06 32', metadata={'source': '/Users/anuragkotiyal/Desktop/engaige/docs_en/Basispaket+WeitBlick_en.pdf', 'page': 3, 'id': '/Users/anuragkotiyal/Desktop/engaige/docs_en/Basispaket+WeitBlick_en.pdf:3:1'}),\n",
       " Document(page_content='Insurance Ombudsman e. V. PO \\nBox 08 06 32\\n10006 Berlin\\nPhone: 0800 3696000\\nEmail: beschwerde@versicherungsombudsmann.de \\nwww.versicherungsombudsmann.de\\nclaim.\\nYou can apply to the Ombudsman for dispute resolution for claims arising from your contract after you \\nhave first given us the opportunity to review our decision. The Ombudsman will not deal with a \\ncomplaint that is simultaneously the subject of a court case or a complaint to the Federal Financial', metadata={'source': '/Users/anuragkotiyal/Desktop/engaige/docs_en/Basispaket+WeitBlick_en.pdf', 'page': 3, 'id': '/Users/anuragkotiyal/Desktop/engaige/docs_en/Basispaket+WeitBlick_en.pdf:3:2'})]"
      ]
     },
     "execution_count": 7,
     "metadata": {},
     "output_type": "execute_result"
    }
   ],
   "source": [
    "chunks_with_ids[0:10]"
   ]
  },
  {
   "cell_type": "code",
   "execution_count": 8,
   "metadata": {},
   "outputs": [
    {
     "name": "stdout",
     "output_type": "stream",
     "text": [
      "The number of loaded docs were 83 and they were split into 494 chunks.\n"
     ]
    }
   ],
   "source": [
    "print(f\"The number of loaded docs were {len(documents)} and they were split into {len(chunks)} chunks.\")"
   ]
  },
  {
   "cell_type": "code",
   "execution_count": 9,
   "metadata": {},
   "outputs": [],
   "source": [
    "# pre-trained hugging face embedding model used to embed user query and loaded data from pdfs\n",
    "model_name = \"sentence-transformers/all-MiniLM-l6-v2\"\n",
    "\n",
    "# create a dictionary with model configuration options, specifying to use the CPU for computations\n",
    "model_kwargs = {'device':'cpu'}\n",
    "\n",
    "# create a dictionary with encoding options, specifically setting 'normalize_embeddings' to False\n",
    "encode_kwargs = {'normalize_embeddings': False}\n",
    "\n",
    "# initialize an instance of HuggingFaceEmbeddings with the specified parameters\n",
    "embeddings = HuggingFaceEmbeddings(\n",
    "    model_name = model_name,     \n",
    "    model_kwargs = model_kwargs, \n",
    "    encode_kwargs = encode_kwargs \n",
    ")"
   ]
  },
  {
   "cell_type": "code",
   "execution_count": 10,
   "metadata": {},
   "outputs": [
    {
     "data": {
      "text/plain": [
       "[-0.038338553160429, 0.12346471846103668, -0.028642943128943443]"
      ]
     },
     "execution_count": 10,
     "metadata": {},
     "output_type": "execute_result"
    }
   ],
   "source": [
    "text = \"This is a test document.\"\n",
    "query_result = embeddings.embed_query(text)\n",
    "query_result[:3]"
   ]
  },
  {
   "cell_type": "code",
   "execution_count": 11,
   "metadata": {},
   "outputs": [
    {
     "name": "stdout",
     "output_type": "stream",
     "text": [
      "This embedding model creates vector embeddings for chunks in 384 dimensions.\n"
     ]
    }
   ],
   "source": [
    "print(f\"This embedding model creates vector embeddings for chunks in {len(query_result)} dimensions.\")"
   ]
  },
  {
   "cell_type": "code",
   "execution_count": 12,
   "metadata": {},
   "outputs": [],
   "source": [
    "# creating a faiss vector database to run similarity searches for user queries\n",
    "db = FAISS.from_documents(chunks_with_ids, embeddings)"
   ]
  },
  {
   "cell_type": "code",
   "execution_count": 13,
   "metadata": {},
   "outputs": [
    {
     "name": "stdout",
     "output_type": "stream",
     "text": [
      "5.5 What types of funds do we offer? ................................................................................................................5\n",
      "5.6 Where can you get detailed information about the funds we offer? ..................................................................5\n",
      "5.7 What happens if we replace a fund and what does that mean for you? ..................................................5\n",
      "Chunk ID - /Users/anuragkotiyal/Desktop/engaige/docs_en/Basispaket+WeitBlick_en.pdf:10:7\n",
      "-----\n",
      "• The day on which your lump sum payment is due or\n",
      "• the second → trading day for your funds after we have received your lump sum payment. \n",
      "Your minimum share in each fund you select is 1 percent.\n",
      "5.5 What types of funds do we offer?\n",
      "We allocate the funds you choose to the fund assets in your contract. You can choose from three types of \n",
      "funds: Standard Life funds, managed portfolios and mutual funds from various fund companies.\n",
      "Page 6 of 19PA/D/1006/ III/11/21\n",
      "Chunk ID - /Users/anuragkotiyal/Desktop/engaige/docs_en/ParkAllee_en.pdf:19:6\n",
      "-----\n",
      "General Insurance Conditions\n",
      "b) Your minimum holding in each fund you select is 1 percent.\n",
      "5.5 What types of funds do we offer?\n",
      "We allocate the funds you choose to the fund assets in your contract. You can choose from three types of \n",
      "funds: Standard Life funds, managed portfolios and mutual funds\n",
      "a)Standard Life Funds\n",
      "The Standard Life funds are launched by Standard Life International DAC (so-called internal funds). We\n",
      "Chunk ID - /Users/anuragkotiyal/Desktop/engaige/docs_en/Basispaket+WeitBlick_en.pdf:16:0\n",
      "-----\n"
     ]
    }
   ],
   "source": [
    "question = \"What types of funds?\"\n",
    "searchDocs = db.similarity_search_with_score(question, k = 3)\n",
    "for doc, _ in searchDocs:\n",
    "    print(doc.page_content)\n",
    "    print(f\"Chunk ID - {doc.metadata['id']}\")\n",
    "    print(\"-----\")"
   ]
  },
  {
   "cell_type": "code",
   "execution_count": 14,
   "metadata": {},
   "outputs": [],
   "source": [
    "PROMPT_TEMPLATE = \"\"\"\n",
    "Answer the question based only on the following context:\n",
    "\n",
    "{context}\n",
    "\n",
    "---\n",
    "\n",
    "Answer the question based on the above context: {question}\n",
    "\"\"\""
   ]
  },
  {
   "cell_type": "code",
   "execution_count": 15,
   "metadata": {},
   "outputs": [],
   "source": [
    "query_text = \"What type of funds are offered?\"\n",
    "\n",
    "searchDocs = db.similarity_search_with_score(question, k = 3)\n",
    "context = \" \".join([doc.page_content for doc, _ in searchDocs])\n",
    "\n",
    "prompt_template = ChatPromptTemplate.from_template(PROMPT_TEMPLATE)\n",
    "prompt = prompt_template.format(context = context, question = query_text)"
   ]
  },
  {
   "cell_type": "code",
   "execution_count": 16,
   "metadata": {},
   "outputs": [
    {
     "name": "stdout",
     "output_type": "stream",
     "text": [
      "Human: \n",
      "Answer the question based only on the following context:\n",
      "\n",
      "5.5 What types of funds do we offer? ................................................................................................................5\n",
      "5.6 Where can you get detailed information about the funds we offer? ..................................................................5\n",
      "5.7 What happens if we replace a fund and what does that mean for you? ..................................................5 • The day on which your lump sum payment is due or\n",
      "• the second → trading day for your funds after we have received your lump sum payment. \n",
      "Your minimum share in each fund you select is 1 percent.\n",
      "5.5 What types of funds do we offer?\n",
      "We allocate the funds you choose to the fund assets in your contract. You can choose from three types of \n",
      "funds: Standard Life funds, managed portfolios and mutual funds from various fund companies.\n",
      "Page 6 of 19PA/D/1006/ III/11/21 General Insurance Conditions\n",
      "b) Your minimum holding in each fund you select is 1 percent.\n",
      "5.5 What types of funds do we offer?\n",
      "We allocate the funds you choose to the fund assets in your contract. You can choose from three types of \n",
      "funds: Standard Life funds, managed portfolios and mutual funds\n",
      "a)Standard Life Funds\n",
      "The Standard Life funds are launched by Standard Life International DAC (so-called internal funds). We\n",
      "\n",
      "---\n",
      "\n",
      "Answer the question based on the above context: What type of funds are offered?\n",
      "\n"
     ]
    }
   ],
   "source": [
    "print(prompt)"
   ]
  },
  {
   "cell_type": "code",
   "execution_count": 17,
   "metadata": {},
   "outputs": [],
   "source": [
    "# initialise Ollama minstral model -> need to run ollama serve from terminal before using Ollama\n",
    "model = Ollama(model = \"llama3\")"
   ]
  },
  {
   "cell_type": "code",
   "execution_count": 18,
   "metadata": {},
   "outputs": [],
   "source": [
    "def get_answer(question: str):\n",
    "    \n",
    "    \"\"\" A function that retrives similar documents from our faiss database and pass an enhanced query\n",
    "    through Ollama minstral model to receive a coherent and concide answer to the base query.\n",
    "\n",
    "    Args:\n",
    "        question (str): a question asked by the user.\n",
    "\n",
    "    Returns:\n",
    "        str: formatted text response from the minstral model that contains source material for the answer.\n",
    "    \"\"\"\n",
    "    \n",
    "    # retrieve top 3 relevant document chunks from the database based on user's query \n",
    "    results = db.similarity_search_with_score(question, k = 3)\n",
    "    context = \" \".join([doc.page_content for doc, _ in results])\n",
    "    \n",
    "    # create a prompt template for Ollama\n",
    "    prompt_template = ChatPromptTemplate.from_template(PROMPT_TEMPLATE)\n",
    "    \n",
    "    # create a proper prompt using langchains LLM prompt\n",
    "    prompt = prompt_template.format(context = context, question = question)\n",
    "    \n",
    "    # get sources of the relevant docs in this case the unique id we created for the chunks\n",
    "    sources = [doc.metadata.get(\"id\", None) for doc, _score in results]\n",
    "    \n",
    "    # get a response to the enhanced query from Ollama\n",
    "    response_text = model.invoke(prompt)\n",
    "    \n",
    "    # format response so that it contains model's answer as well the source documents it used to generate that answer\n",
    "    formatted_response = f\"Response: {response_text}\\n\\nSources: {sources}\"\n",
    "    \n",
    "    return formatted_response"
   ]
  },
  {
   "cell_type": "code",
   "execution_count": 19,
   "metadata": {},
   "outputs": [],
   "source": [
    "# question 1 in English from query.txt\n",
    "query = \"What types of funds are offered?\"\n",
    "answer = get_answer(question = query)"
   ]
  },
  {
   "cell_type": "code",
   "execution_count": 20,
   "metadata": {},
   "outputs": [
    {
     "name": "stdout",
     "output_type": "stream",
     "text": [
      "Response: According to the provided context, the types of funds that are offered are:\n",
      "\n",
      "1. Standard Life funds\n",
      "2. Managed portfolios\n",
      "3. Mutual funds from various fund companies\n",
      "\n",
      "Sources: ['/Users/anuragkotiyal/Desktop/engaige/docs_en/ParkAllee_en.pdf:19:6', '/Users/anuragkotiyal/Desktop/engaige/docs_en/Basispaket+WeitBlick_en.pdf:10:7', '/Users/anuragkotiyal/Desktop/engaige/docs_en/Basispaket+WeitBlick_en.pdf:16:0']\n"
     ]
    }
   ],
   "source": [
    "print(answer)"
   ]
  },
  {
   "cell_type": "code",
   "execution_count": 21,
   "metadata": {},
   "outputs": [],
   "source": [
    "# question 2 in English from query.txt\n",
    "query = \"What about Church tax deductions?\"\n",
    "answer = get_answer(question = query)"
   ]
  },
  {
   "cell_type": "code",
   "execution_count": 22,
   "metadata": {},
   "outputs": [
    {
     "name": "stdout",
     "output_type": "stream",
     "text": [
      "Response: According to the provided context, from January 1, 2015, church tax on capital gains taxed at a flat rate will be automatically withheld and paid to the religious communities that collect the tax. This means that there is an automatic church tax deduction procedure for withholding tax.\n",
      "\n",
      "Sources: ['/Users/anuragkotiyal/Desktop/engaige/docs_en/ParkAllee_en.pdf:7:5', '/Users/anuragkotiyal/Desktop/engaige/docs_en/ParkAllee_en.pdf:7:7', '/Users/anuragkotiyal/Desktop/engaige/docs_en/Basispaket+WeitBlick_en.pdf:6:3']\n"
     ]
    }
   ],
   "source": [
    "print(answer)"
   ]
  },
  {
   "cell_type": "code",
   "execution_count": 23,
   "metadata": {},
   "outputs": [],
   "source": [
    "# question 3 in English from query.txt\n",
    "query = \"Who should I contact if I have questions?\"\n",
    "answer = get_answer(question = query)"
   ]
  },
  {
   "cell_type": "code",
   "execution_count": 24,
   "metadata": {},
   "outputs": [
    {
     "name": "stdout",
     "output_type": "stream",
     "text": [
      "Response: According to the provided information, you can contact your broker first if you have any questions about your pension plan or contract. Additionally, you can also contact Standard Life's service staff from Monday to Friday between 9 a.m. and 5 p.m. using one of the following methods:\n",
      "\n",
      "* Tel.: 0800 2214747 (free of charge)\n",
      "* Fax: 0800 5892821\n",
      "* Email: kundenservice@standardlife.de\n",
      "\n",
      "Sources: ['/Users/anuragkotiyal/Desktop/engaige/docs_en/ParkAllee_en.pdf:4:0', '/Users/anuragkotiyal/Desktop/engaige/docs_en/Basispaket+WeitBlick_en.pdf:3:0', '/Users/anuragkotiyal/Desktop/engaige/docs_en/ParkAllee_en.pdf:31:5']\n"
     ]
    }
   ],
   "source": [
    "print(answer)"
   ]
  },
  {
   "cell_type": "code",
   "execution_count": 25,
   "metadata": {},
   "outputs": [],
   "source": [
    "# question 4 in English from query.txt\n",
    "query = \"How do you determine amount of payout?\"\n",
    "answer = get_answer(question = query)"
   ]
  },
  {
   "cell_type": "code",
   "execution_count": 26,
   "metadata": {},
   "outputs": [
    {
     "name": "stdout",
     "output_type": "stream",
     "text": [
      "Response: According to the provided context, in writing, you determine the amount of the payout.\n",
      "\n",
      "Sources: ['/Users/anuragkotiyal/Desktop/engaige/docs_en/ParkAllee_en.pdf:12:9', '/Users/anuragkotiyal/Desktop/engaige/docs_en/Basispaket+WeitBlick_en.pdf:10:10', '/Users/anuragkotiyal/Desktop/engaige/docs_en/Basispaket+WeitBlick_en.pdf:22:6']\n"
     ]
    }
   ],
   "source": [
    "print(answer)"
   ]
  },
  {
   "cell_type": "code",
   "execution_count": 27,
   "metadata": {},
   "outputs": [],
   "source": [
    "# question 5 in English from query.txt\n",
    "query = \"What are the general insurance conditions?\"\n",
    "answer = get_answer(question = query)"
   ]
  },
  {
   "cell_type": "code",
   "execution_count": 28,
   "metadata": {},
   "outputs": [
    {
     "name": "stdout",
     "output_type": "stream",
     "text": [
      "Response: Based on the provided context, the General Insurance Conditions state that:\n",
      "\n",
      "1. For members of the German Armed Forces, Police or Federal Police who participate in humanitarian aid or peacekeeping operations outside NATO states and die as a result, there is full coverage.\n",
      "2. If an insured person dies directly or indirectly due to war events or unrest (except for cases mentioned in 1), the insurer will pay out the surrender value instead of the death benefit.\n",
      "\n",
      "Additionally, the conditions mention that the ParkAllee unit-linked pension insurance provides:\n",
      "\n",
      "* Insurance cover by paying a lifelong monthly pension if the policyholder lives to see the pension start date.\n",
      "* Insurance cover in certain circumstances where the underlying funds or managed portfolio is no longer available for purchase or sale, or the strategy changes and no longer aligns with the investment objectives.\n",
      "\n",
      "Sources: ['/Users/anuragkotiyal/Desktop/engaige/docs_en/Basispaket+WeitBlick_en.pdf:14:0', '/Users/anuragkotiyal/Desktop/engaige/docs_en/ParkAllee_en.pdf:14:0', '/Users/anuragkotiyal/Desktop/engaige/docs_en/Basispaket+WeitBlick_en.pdf:18:0']\n"
     ]
    }
   ],
   "source": [
    "print(answer)"
   ]
  }
 ],
 "metadata": {
  "kernelspec": {
   "display_name": "env",
   "language": "python",
   "name": "python3"
  },
  "language_info": {
   "codemirror_mode": {
    "name": "ipython",
    "version": 3
   },
   "file_extension": ".py",
   "mimetype": "text/x-python",
   "name": "python",
   "nbconvert_exporter": "python",
   "pygments_lexer": "ipython3",
   "version": "3.9.13"
  }
 },
 "nbformat": 4,
 "nbformat_minor": 2
}
